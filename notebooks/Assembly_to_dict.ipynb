{
 "cells": [
  {
   "cell_type": "markdown",
   "id": "c924440e",
   "metadata": {},
   "source": [
    "# Assembly to dict"
   ]
  },
  {
   "cell_type": "code",
   "execution_count": 1,
   "id": "df62b558",
   "metadata": {},
   "outputs": [],
   "source": [
    "def dictionaryListCreatorPython(file):\n",
    "    import sbol2 as sb2\n",
    "    import json\n",
    "\n",
    "    # Disable typed URIs for cleaner URI strings\n",
    "    sb2.Config.setOption('sbol_typed_uris', False)\n",
    "\n",
    "    # Read the SBOL document\n",
    "    doc = sb2.Document()\n",
    "    doc.read(file)\n",
    "\n",
    "    # Known SO roles\n",
    "    PRODUCT_ROLE = 'http://identifiers.org/so/SO:0000804'     # composite product\n",
    "    PLASMID_ROLE = 'https://identifiers.org/SO:0000755'       # plasmid/backbone\n",
    "\n",
    "    # SBOL type for Protein\n",
    "    PROTEIN_TYPE = sb2.BIOPAX_PROTEIN  # URI for proteins\n",
    "\n",
    "    product_dicts = []\n",
    "\n",
    "    globalEnzyme = None\n",
    "    for cd in doc.componentDefinitions:\n",
    "        # Detect restriction enzyme by Protein type\n",
    "        #create a filler variable\n",
    "        if PROTEIN_TYPE in cd.types:\n",
    "            globalEnzyme = cd.identity\n",
    "\n",
    "        if PRODUCT_ROLE in cd.roles:\n",
    "            #create new dict for every product\n",
    "            result = {\n",
    "                'Product': cd.identity,\n",
    "                'Backbone': None,\n",
    "                'PartsList': [],\n",
    "                'Restriction Enzyme': None\n",
    "            }\n",
    "\n",
    "            for comp in cd.components:\n",
    "                sub_def_uri = comp.definition\n",
    "                sub_cd = doc.componentDefinitions.get(sub_def_uri)\n",
    "\n",
    "                if sub_cd is None:\n",
    "                    continue\n",
    "\n",
    "                roles = sub_cd.roles\n",
    "                display_id = sub_cd.displayId or \"\"\n",
    "\n",
    "                #print(f\"{display_id} roles: {roles} types: {types}\")\n",
    "\n",
    "                # Detect backbone by SO role\n",
    "                if PLASMID_ROLE in roles:\n",
    "                    result['Backbone'] = sub_def_uri\n",
    "                    result['PartsList'].append(sub_def_uri)\n",
    "\n",
    "                # Default case: treat as regular part\n",
    "                else:\n",
    "                    result['PartsList'].append(sub_def_uri)\n",
    "\n",
    "            product_dicts.append(result)\n",
    "\n",
    "        #add enzymes to each dictionary\n",
    "        for dict in product_dicts:\n",
    "            dict['Restriction Enzyme'] = globalEnzyme\n",
    "\n",
    "    return product_dicts"
   ]
  },
  {
   "cell_type": "code",
   "execution_count": 2,
   "id": "cef06312",
   "metadata": {},
   "outputs": [
    {
     "data": {
      "text/plain": [
       "[{'Product': 'https://SBOL2Build.org/composite_1/1',\n",
       "  'Backbone': None,\n",
       "  'PartsList': ['https://sbolcanvas.org/B0015/1',\n",
       "   'https://sbolcanvas.org/Cir_qxow/1',\n",
       "   'https://SBOL2Build.org/Ligation_Scar_A/1',\n",
       "   'https://SBOL2Build.org/Ligation_Scar_D/1',\n",
       "   'https://SBOL2Build.org/Ligation_Scar_B/1',\n",
       "   'https://SBOL2Build.org/Ligation_Scar_E/1',\n",
       "   'https://sbolcanvas.org/J23101/1',\n",
       "   'https://sbolcanvas.org/GFP/1',\n",
       "   'https://sbolcanvas.org/B0034/1',\n",
       "   'https://SBOL2Build.org/Ligation_Scar_C/1'],\n",
       "  'Restriction Enzyme': 'https://SBOL2Build.org/T4_Ligase/1'}]"
      ]
     },
     "execution_count": 2,
     "metadata": {},
     "output_type": "execute_result"
    }
   ],
   "source": [
    "dictionaryListCreatorPython(\"../tests/validation_assembly.xml\")"
   ]
  },
  {
   "cell_type": "code",
   "execution_count": null,
   "id": "46fb31a6",
   "metadata": {},
   "outputs": [],
   "source": []
  }
 ],
 "metadata": {
  "kernelspec": {
   "display_name": "GLLDB",
   "language": "python",
   "name": "python3"
  },
  "language_info": {
   "codemirror_mode": {
    "name": "ipython",
    "version": 3
   },
   "file_extension": ".py",
   "mimetype": "text/x-python",
   "name": "python",
   "nbconvert_exporter": "python",
   "pygments_lexer": "ipython3",
   "version": "3.9.19"
  }
 },
 "nbformat": 4,
 "nbformat_minor": 5
}
