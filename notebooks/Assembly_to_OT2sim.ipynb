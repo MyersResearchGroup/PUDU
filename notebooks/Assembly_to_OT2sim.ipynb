{
 "cells": [
  {
   "cell_type": "markdown",
   "id": "f62bc338",
   "metadata": {},
   "source": [
    "# SBOL to robot simulation"
   ]
  },
  {
   "cell_type": "code",
   "execution_count": 1,
   "id": "7c2e1157",
   "metadata": {},
   "outputs": [
    {
     "name": "stdout",
     "output_type": "stream",
     "text": [
      "Collecting git+https://github.com/MyersResearchGroup/SBOL2Build\n",
      "  Cloning https://github.com/MyersResearchGroup/SBOL2Build to /private/var/folders/65/dt4l3nw13q57n8x9nlly46640000gn/T/pip-req-build-zd6w75qs\n",
      "  Running command git clone --filter=blob:none --quiet https://github.com/MyersResearchGroup/SBOL2Build /private/var/folders/65/dt4l3nw13q57n8x9nlly46640000gn/T/pip-req-build-zd6w75qs\n",
      "  Resolved https://github.com/MyersResearchGroup/SBOL2Build to commit 177a60672c96904f3f911b36648493deb05419ce\n",
      "  Installing build dependencies ... \u001b[?25ldone\n",
      "\u001b[?25h  Getting requirements to build wheel ... \u001b[?25ldone\n",
      "\u001b[?25h  Preparing metadata (pyproject.toml) ... \u001b[?25ldone\n",
      "\u001b[?25hRequirement already satisfied: sbol2 in /Users/gonzalovidal/opt/anaconda3/envs/GLLDB/lib/python3.9/site-packages (from sbol2build==0.0b1) (1.2)\n",
      "Requirement already satisfied: biopython in /Users/gonzalovidal/opt/anaconda3/envs/GLLDB/lib/python3.9/site-packages (from sbol2build==0.0b1) (1.84)\n",
      "Requirement already satisfied: pydna in /Users/gonzalovidal/opt/anaconda3/envs/GLLDB/lib/python3.9/site-packages (from sbol2build==0.0b1) (5.4.0)\n",
      "Requirement already satisfied: numpy in /Users/gonzalovidal/opt/anaconda3/envs/GLLDB/lib/python3.9/site-packages (from biopython->sbol2build==0.0b1) (1.26.1)\n",
      "Requirement already satisfied: appdirs>=1.4.4 in /Users/gonzalovidal/opt/anaconda3/envs/GLLDB/lib/python3.9/site-packages (from pydna->sbol2build==0.0b1) (1.4.4)\n",
      "Requirement already satisfied: networkx>=2.8.8 in /Users/gonzalovidal/opt/anaconda3/envs/GLLDB/lib/python3.9/site-packages (from pydna->sbol2build==0.0b1) (3.2.1)\n",
      "Requirement already satisfied: prettytable>=3.5.0 in /Users/gonzalovidal/opt/anaconda3/envs/GLLDB/lib/python3.9/site-packages (from pydna->sbol2build==0.0b1) (3.16.0)\n",
      "Requirement already satisfied: pydivsufsort>=0.0.14 in /Users/gonzalovidal/opt/anaconda3/envs/GLLDB/lib/python3.9/site-packages (from pydna->sbol2build==0.0b1) (0.0.18)\n",
      "Requirement already satisfied: pyfiglet==0.8.post1 in /Users/gonzalovidal/opt/anaconda3/envs/GLLDB/lib/python3.9/site-packages (from pydna->sbol2build==0.0b1) (0.8.post1)\n",
      "Requirement already satisfied: seguid>=0.0.5 in /Users/gonzalovidal/opt/anaconda3/envs/GLLDB/lib/python3.9/site-packages (from pydna->sbol2build==0.0b1) (0.1.0)\n",
      "Requirement already satisfied: wcwidth in /Users/gonzalovidal/opt/anaconda3/envs/GLLDB/lib/python3.9/site-packages (from prettytable>=3.5.0->pydna->sbol2build==0.0b1) (0.2.13)\n",
      "Requirement already satisfied: wheel in /Users/gonzalovidal/opt/anaconda3/envs/GLLDB/lib/python3.9/site-packages (from pydivsufsort>=0.0.14->pydna->sbol2build==0.0b1) (0.41.2)\n",
      "Requirement already satisfied: rdflib>=5.0 in /Users/gonzalovidal/opt/anaconda3/envs/GLLDB/lib/python3.9/site-packages (from sbol2->sbol2build==0.0b1) (6.1.1)\n",
      "Requirement already satisfied: python-dateutil in /Users/gonzalovidal/opt/anaconda3/envs/GLLDB/lib/python3.9/site-packages (from sbol2->sbol2build==0.0b1) (2.8.2)\n",
      "Requirement already satisfied: deprecated in /Users/gonzalovidal/opt/anaconda3/envs/GLLDB/lib/python3.9/site-packages (from sbol2->sbol2build==0.0b1) (1.2.14)\n",
      "Requirement already satisfied: lxml in /Users/gonzalovidal/opt/anaconda3/envs/GLLDB/lib/python3.9/site-packages (from sbol2->sbol2build==0.0b1) (5.2.1)\n",
      "Requirement already satisfied: requests in /Users/gonzalovidal/opt/anaconda3/envs/GLLDB/lib/python3.9/site-packages (from sbol2->sbol2build==0.0b1) (2.25.1)\n",
      "Requirement already satisfied: urllib3 in /Users/gonzalovidal/opt/anaconda3/envs/GLLDB/lib/python3.9/site-packages (from sbol2->sbol2build==0.0b1) (1.26.5)\n",
      "Requirement already satisfied: packaging>=20.0 in /Users/gonzalovidal/opt/anaconda3/envs/GLLDB/lib/python3.9/site-packages (from sbol2->sbol2build==0.0b1) (24.0)\n",
      "Requirement already satisfied: isodate in /Users/gonzalovidal/opt/anaconda3/envs/GLLDB/lib/python3.9/site-packages (from rdflib>=5.0->sbol2->sbol2build==0.0b1) (0.6.1)\n",
      "Requirement already satisfied: pyparsing in /Users/gonzalovidal/opt/anaconda3/envs/GLLDB/lib/python3.9/site-packages (from rdflib>=5.0->sbol2->sbol2build==0.0b1) (2.4.7)\n",
      "Requirement already satisfied: setuptools in /Users/gonzalovidal/opt/anaconda3/envs/GLLDB/lib/python3.9/site-packages (from rdflib>=5.0->sbol2->sbol2build==0.0b1) (68.2.2)\n",
      "Requirement already satisfied: wrapt<2,>=1.10 in /Users/gonzalovidal/opt/anaconda3/envs/GLLDB/lib/python3.9/site-packages (from deprecated->sbol2->sbol2build==0.0b1) (1.16.0)\n",
      "Requirement already satisfied: six in /Users/gonzalovidal/opt/anaconda3/envs/GLLDB/lib/python3.9/site-packages (from isodate->rdflib>=5.0->sbol2->sbol2build==0.0b1) (1.16.0)\n",
      "Requirement already satisfied: chardet<5,>=3.0.2 in /Users/gonzalovidal/opt/anaconda3/envs/GLLDB/lib/python3.9/site-packages (from requests->sbol2->sbol2build==0.0b1) (4.0.0)\n",
      "Requirement already satisfied: idna<3,>=2.5 in /Users/gonzalovidal/opt/anaconda3/envs/GLLDB/lib/python3.9/site-packages (from requests->sbol2->sbol2build==0.0b1) (2.10)\n",
      "Requirement already satisfied: certifi>=2017.4.17 in /Users/gonzalovidal/opt/anaconda3/envs/GLLDB/lib/python3.9/site-packages (from requests->sbol2->sbol2build==0.0b1) (2024.2.2)\n",
      "Note: you may need to restart the kernel to use updated packages.\n"
     ]
    }
   ],
   "source": [
    "pip install git+https://github.com/MyersResearchGroup/SBOL2Build"
   ]
  },
  {
   "cell_type": "code",
   "execution_count": 3,
   "id": "69c8a583",
   "metadata": {},
   "outputs": [],
   "source": [
    "import sbol2build as sb2b"
   ]
  },
  {
   "cell_type": "code",
   "execution_count": 4,
   "id": "e86cb15c",
   "metadata": {},
   "outputs": [],
   "source": [
    "import sbol2 as sb2"
   ]
  },
  {
   "cell_type": "code",
   "execution_count": 5,
   "id": "4f19b39f",
   "metadata": {},
   "outputs": [],
   "source": [
    "def test_golden_gate(self):\n",
    "        pro_doc = sb2.Document()\n",
    "        pro_doc.read('pro_in_bb.xml')\n",
    "\n",
    "        #where I am working adding 2 and 3\n",
    "        pro2_doc = sb2.Document()\n",
    "        pro2_doc.read('pro2_in_bb.xml') #add document\n",
    "\n",
    "        pro3_doc = sb2.Document()\n",
    "        pro3_doc.read('pro3_in_bb.xml') #add document\n",
    "    \n",
    "        rbs_doc = sb2.Document()\n",
    "        rbs_doc.read('rbs_in_bb.xml')\n",
    "\n",
    "        cds_doc = sb2.Document()\n",
    "        cds_doc.read('cds_in_bb.xml')\n",
    "        \n",
    "        ter_doc = sb2.Document()\n",
    "        ter_doc.read('terminator_in_bb.xml')\n",
    "\n",
    "        bb_doc = sb2.Document()\n",
    "        bb_doc.read('backbone.xml')\n",
    "\n",
    "        part_docs = [pro_doc, rbs_doc, cds_doc, ter_doc]\n",
    "\n",
    "        assembly_doc = sb2.Document()\n",
    "        assembly_obj = sb2b.golden_gate_assembly_plan('testassem', part_docs, bb_doc, 'BsaI', assembly_doc)\n",
    "\n",
    "        composites = assembly_obj.run()\n",
    "\n",
    "        assembly_doc.write('validation_assembly.xml')\n",
    "\n",
    "        sbol_validation_result = assembly_doc.validate()\n",
    "        self.assertEqual(sbol_validation_result, 'Valid.', 'Assembly SBOL validation failed')"
   ]
  },
  {
   "cell_type": "code",
   "execution_count": null,
   "id": "5bf7f217",
   "metadata": {},
   "outputs": [],
   "source": []
  }
 ],
 "metadata": {
  "kernelspec": {
   "display_name": "GLLDB",
   "language": "python",
   "name": "python3"
  },
  "language_info": {
   "codemirror_mode": {
    "name": "ipython",
    "version": 3
   },
   "file_extension": ".py",
   "mimetype": "text/x-python",
   "name": "python",
   "nbconvert_exporter": "python",
   "pygments_lexer": "ipython3",
   "version": "3.9.19"
  }
 },
 "nbformat": 4,
 "nbformat_minor": 5
}
