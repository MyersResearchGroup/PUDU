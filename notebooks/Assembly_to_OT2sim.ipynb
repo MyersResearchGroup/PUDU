{
 "cells": [
  {
   "cell_type": "markdown",
   "id": "f62bc338",
   "metadata": {},
   "source": [
    "# SBOL to robot simulation"
   ]
  },
  {
   "cell_type": "code",
   "execution_count": 40,
   "id": "7c2e1157",
   "metadata": {},
   "outputs": [
    {
     "name": "stdout",
     "output_type": "stream",
     "text": [
      "Collecting git+https://github.com/MyersResearchGroup/SBOL2Build.git@roles-for-RE-and-Ligases\n",
      "  Cloning https://github.com/MyersResearchGroup/SBOL2Build.git (to revision roles-for-RE-and-Ligases) to c:\\users\\lukef\\appdata\\local\\temp\\pip-req-build-jomazih6\n",
      "  Resolved https://github.com/MyersResearchGroup/SBOL2Build.git to commit 2c0a53abada3731e81e0b04ac7c391f882c74a70\n",
      "  Installing build dependencies: started\n",
      "  Installing build dependencies: finished with status 'done'\n",
      "  Getting requirements to build wheel: started\n",
      "  Getting requirements to build wheel: finished with status 'done'\n",
      "  Installing backend dependencies: started\n",
      "  Installing backend dependencies: finished with status 'done'\n",
      "  Preparing metadata (pyproject.toml): started\n",
      "  Preparing metadata (pyproject.toml): finished with status 'done'\n",
      "Requirement already satisfied: biopython in c:\\users\\lukef\\.conda\\envs\\test\\lib\\site-packages (from sbol2build==0.0b1) (1.81)\n",
      "Requirement already satisfied: pydna in c:\\users\\lukef\\.conda\\envs\\test\\lib\\site-packages (from sbol2build==0.0b1) (5.0.0)\n",
      "Requirement already satisfied: sbol2 in c:\\users\\lukef\\.conda\\envs\\test\\lib\\site-packages (from sbol2build==0.0b1) (1.4.1)\n",
      "Requirement already satisfied: numpy in c:\\users\\lukef\\.conda\\envs\\test\\lib\\site-packages (from biopython->sbol2build==0.0b1) (1.21.6)\n",
      "Requirement already satisfied: networkx in c:\\users\\lukef\\.conda\\envs\\test\\lib\\site-packages (from pydna->sbol2build==0.0b1) (2.6.3)\n",
      "Requirement already satisfied: prettytable in c:\\users\\lukef\\.conda\\envs\\test\\lib\\site-packages (from pydna->sbol2build==0.0b1) (3.7.0)\n",
      "Requirement already satisfied: appdirs in c:\\users\\lukef\\.conda\\envs\\test\\lib\\site-packages (from pydna->sbol2build==0.0b1) (1.4.4)\n",
      "Requirement already satisfied: requests in c:\\users\\lukef\\.conda\\envs\\test\\lib\\site-packages (from sbol2->sbol2build==0.0b1) (2.31.0)\n",
      "Requirement already satisfied: urllib3 in c:\\users\\lukef\\.conda\\envs\\test\\lib\\site-packages (from sbol2->sbol2build==0.0b1) (2.0.7)\n",
      "Requirement already satisfied: rdflib>=5.0 in c:\\users\\lukef\\.conda\\envs\\test\\lib\\site-packages (from sbol2->sbol2build==0.0b1) (6.3.2)\n",
      "Requirement already satisfied: packaging>=20.0 in c:\\users\\lukef\\.conda\\envs\\test\\lib\\site-packages (from sbol2->sbol2build==0.0b1) (24.0)\n",
      "Requirement already satisfied: lxml in c:\\users\\lukef\\.conda\\envs\\test\\lib\\site-packages (from sbol2->sbol2build==0.0b1) (5.3.1)\n",
      "Requirement already satisfied: deprecated in c:\\users\\lukef\\.conda\\envs\\test\\lib\\site-packages (from sbol2->sbol2build==0.0b1) (1.2.18)\n",
      "Requirement already satisfied: python-dateutil in c:\\users\\lukef\\.conda\\envs\\test\\lib\\site-packages (from sbol2->sbol2build==0.0b1) (2.9.0)\n",
      "Requirement already satisfied: pyparsing<4,>=2.1.0 in c:\\users\\lukef\\.conda\\envs\\test\\lib\\site-packages (from rdflib>=5.0->sbol2->sbol2build==0.0b1) (2.4.7)\n",
      "Requirement already satisfied: isodate<0.7.0,>=0.6.0 in c:\\users\\lukef\\.conda\\envs\\test\\lib\\site-packages (from rdflib>=5.0->sbol2->sbol2build==0.0b1) (0.6.1)\n",
      "Requirement already satisfied: importlib-metadata<5.0.0,>=4.0.0 in c:\\users\\lukef\\.conda\\envs\\test\\lib\\site-packages (from rdflib>=5.0->sbol2->sbol2build==0.0b1) (4.13.0)\n",
      "Requirement already satisfied: wrapt<2,>=1.10 in c:\\users\\lukef\\.conda\\envs\\test\\lib\\site-packages (from deprecated->sbol2->sbol2build==0.0b1) (1.16.0)\n",
      "Requirement already satisfied: wcwidth in c:\\users\\lukef\\.conda\\envs\\test\\lib\\site-packages (from prettytable->pydna->sbol2build==0.0b1) (0.2.10)\n",
      "Requirement already satisfied: six>=1.5 in c:\\users\\lukef\\.conda\\envs\\test\\lib\\site-packages (from python-dateutil->sbol2->sbol2build==0.0b1) (1.17.0)\n",
      "Requirement already satisfied: certifi>=2017.4.17 in c:\\users\\lukef\\.conda\\envs\\test\\lib\\site-packages (from requests->sbol2->sbol2build==0.0b1) (2024.8.30)\n",
      "Requirement already satisfied: idna<4,>=2.5 in c:\\users\\lukef\\.conda\\envs\\test\\lib\\site-packages (from requests->sbol2->sbol2build==0.0b1) (3.10)\n",
      "Requirement already satisfied: charset-normalizer<4,>=2 in c:\\users\\lukef\\.conda\\envs\\test\\lib\\site-packages (from requests->sbol2->sbol2build==0.0b1) (3.4.1)\n",
      "Requirement already satisfied: zipp>=0.5 in c:\\users\\lukef\\.conda\\envs\\test\\lib\\site-packages (from importlib-metadata<5.0.0,>=4.0.0->rdflib>=5.0->sbol2->sbol2build==0.0b1) (3.15.0)\n",
      "Requirement already satisfied: typing-extensions>=3.6.4 in c:\\users\\lukef\\.conda\\envs\\test\\lib\\site-packages (from importlib-metadata<5.0.0,>=4.0.0->rdflib>=5.0->sbol2->sbol2build==0.0b1) (4.7.1)\n",
      "Note: you may need to restart the kernel to use updated packages.\n"
     ]
    },
    {
     "name": "stderr",
     "output_type": "stream",
     "text": [
      "  Running command git clone --filter=blob:none --quiet https://github.com/MyersResearchGroup/SBOL2Build.git 'C:\\Users\\lukef\\AppData\\Local\\Temp\\pip-req-build-jomazih6'\n",
      "  Running command git checkout -b roles-for-RE-and-Ligases --track origin/roles-for-RE-and-Ligases\n",
      "  branch 'roles-for-RE-and-Ligases' set up to track 'origin/roles-for-RE-and-Ligases'.\n",
      "  Switched to a new branch 'roles-for-RE-and-Ligases'\n"
     ]
    }
   ],
   "source": [
    "pip install git+https://github.com/MyersResearchGroup/SBOL2Build.git@roles-for-RE-and-Ligases"
   ]
  },
  {
   "cell_type": "code",
   "execution_count": 41,
   "id": "69c8a583",
   "metadata": {},
   "outputs": [],
   "source": [
    "import sbol2build as sb2b"
   ]
  },
  {
   "cell_type": "code",
   "execution_count": 42,
   "id": "e86cb15c",
   "metadata": {},
   "outputs": [],
   "source": [
    "import sbol2 as sb2"
   ]
  },
  {
   "cell_type": "code",
   "execution_count": 43,
   "id": "4f19b39f",
   "metadata": {},
   "outputs": [],
   "source": [
    "def test_golden_gate():\n",
    "        pro_doc = sb2.Document()\n",
    "\n",
    "        pro_doc.read('../tests/pro_in_bb.xml')\n",
    "\n",
    "        #where I am working adding 2 and 3\n",
    "        pro2_doc = sb2.Document()\n",
    "        pro2_doc.read('../tests/pro2_in_bb.xml') #add document\n",
    "\n",
    "        pro3_doc = sb2.Document()\n",
    "        pro3_doc.read('../tests/pro3_in_bb.xml') #add document\n",
    "    \n",
    "        rbs_doc = sb2.Document()\n",
    "        rbs_doc.read('../tests/rbs_in_bb.xml')\n",
    "\n",
    "        cds_doc = sb2.Document()\n",
    "        cds_doc.read('../tests/cds_in_bb.xml')\n",
    "        \n",
    "        ter_doc = sb2.Document()\n",
    "        ter_doc.read('../tests/terminator_in_bb.xml')\n",
    "\n",
    "        bb_doc = sb2.Document()\n",
    "        bb_doc.read('../tests/backbone.xml')\n",
    "\n",
    "        part_docs = [pro_doc, rbs_doc, cds_doc, ter_doc]\n",
    "\n",
    "        assembly_doc = sb2.Document()\n",
    "        assembly_obj = sb2b.golden_gate_assembly_plan('testassem', part_docs, bb_doc, 'BsaI', assembly_doc)\n",
    "\n",
    "        composites = assembly_obj.run()\n",
    "\n",
    "        assembly_doc.write('validation_assembly1.xml')\n",
    "\n",
    "        sbol_validation_result = assembly_doc.validate()"
   ]
  },
  {
   "cell_type": "code",
   "execution_count": 44,
   "id": "5bf7f217",
   "metadata": {},
   "outputs": [
    {
     "name": "stdout",
     "output_type": "stream",
     "text": [
      "adding: UJHDBOTD_70_extracted_part\n",
      "adding: UJHDBOTD_70_three_prime_oh\n",
      "adding: Scar_B\n",
      "adding: J23101\n",
      "adding: UJHDBOTD_70_five_prime_oh\n",
      "adding: Scar_A\n",
      "adding: UJHDBOTD_45_extracted_part\n",
      "adding: UJHDBOTD_45_five_prime_oh\n",
      "adding: Scar_B\n",
      "adding: UJHDBOTD_45_three_prime_oh\n",
      "adding: Scar_C\n",
      "adding: B0034\n",
      "adding: UJHDBOTD_106_extracted_part\n",
      "adding: GFP\n",
      "adding: UJHDBOTD_106_five_prime_oh\n",
      "adding: Scar_C\n",
      "adding: UJHDBOTD_106_three_prime_oh\n",
      "adding: Scar_D\n",
      "adding: UJHDBOTD_134_extracted_part\n",
      "adding: B0015\n",
      "adding: UJHDBOTD_134_three_prime_oh\n",
      "adding: Scar_F\n",
      "adding: UJHDBOTD_134_five_prime_oh\n",
      "adding: Scar_D\n",
      "adding: UJHDBOTD_extracted_backbone\n",
      "adding: UJHDBOTD_159_five_prime_oh\n",
      "adding: Scar_F\n",
      "adding: Cir_qxow\n",
      "adding: UJHDBOTD_159_three_prime_oh\n",
      "adding: Scar_A\n",
      "adding: composite_1\n"
     ]
    }
   ],
   "source": [
    "test_golden_gate()"
   ]
  }
 ],
 "metadata": {
  "kernelspec": {
   "display_name": "test",
   "language": "python",
   "name": "python3"
  },
  "language_info": {
   "codemirror_mode": {
    "name": "ipython",
    "version": 3
   },
   "file_extension": ".py",
   "mimetype": "text/x-python",
   "name": "python",
   "nbconvert_exporter": "python",
   "pygments_lexer": "ipython3",
   "version": "3.7.12"
  }
 },
 "nbformat": 4,
 "nbformat_minor": 5
}
