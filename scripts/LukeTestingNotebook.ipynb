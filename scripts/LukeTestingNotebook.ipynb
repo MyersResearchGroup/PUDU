{
 "cells": [
  {
   "cell_type": "code",
   "execution_count": null,
   "id": "68d30519",
   "metadata": {
    "vscode": {
     "languageId": "plaintext"
    }
   },
   "outputs": [],
   "source": [
    "def dictionaryCreatorPython(file):\n",
    "    import sbol2 as sb2\n",
    "    #given code from website\n",
    "    doc = sb2.Document()\n",
    "    doc.read(file)\n",
    "    #Loops through commponetDefinition\n",
    "    #for DNA\n",
    "\n",
    "    #look at the roles for each\n",
    "    for cd in doc.componentDefinitions:\n",
    "        #check for role\n",
    "        if cd.role =='http://identifiers.org/so/SO:0000804':\n",
    "            print(cd)#allproducts"
   ]
  },
  {
   "cell_type": "code",
   "execution_count": null,
   "id": "6a11bb44",
   "metadata": {
    "vscode": {
     "languageId": "plaintext"
    }
   },
   "outputs": [],
   "source": [
    "cd.features"
   ]
  }
 ],
 "metadata": {
  "language_info": {
   "name": "python"
  }
 },
 "nbformat": 4,
 "nbformat_minor": 5
}
